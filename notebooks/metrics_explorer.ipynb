{
 "cells": [
  {
   "cell_type": "code",
   "execution_count": 1,
   "metadata": {},
   "outputs": [],
   "source": [
    "import sys\n",
    "sys.path.insert(1, '../src/')\n",
    "\n",
    "import db_wrapper as db\n",
    "import gemini_wrapper as gemini\n",
    "import rag, re, json, os\n",
    "import pandas as pd"
   ]
  },
  {
   "cell_type": "code",
   "execution_count": 19,
   "metadata": {},
   "outputs": [],
   "source": [
    "def get_size_mb(p):\n",
    "    s = os.path.getsize(p) / 1024 ** 2\n",
    "    return round(s, 1)"
   ]
  },
  {
   "cell_type": "code",
   "execution_count": 2,
   "metadata": {},
   "outputs": [
    {
     "data": {
      "text/html": [
       "<div>\n",
       "<style scoped>\n",
       "    .dataframe tbody tr th:only-of-type {\n",
       "        vertical-align: middle;\n",
       "    }\n",
       "\n",
       "    .dataframe tbody tr th {\n",
       "        vertical-align: top;\n",
       "    }\n",
       "\n",
       "    .dataframe thead th {\n",
       "        text-align: right;\n",
       "    }\n",
       "</style>\n",
       "<table border=\"1\" class=\"dataframe\">\n",
       "  <thead>\n",
       "    <tr style=\"text-align: right;\">\n",
       "      <th></th>\n",
       "      <th>id</th>\n",
       "      <th>path</th>\n",
       "    </tr>\n",
       "  </thead>\n",
       "  <tbody>\n",
       "    <tr>\n",
       "      <th>0</th>\n",
       "      <td>0</td>\n",
       "      <td>../BData/Mech - Section 2 - Systems Descriptio...</td>\n",
       "    </tr>\n",
       "    <tr>\n",
       "      <th>1</th>\n",
       "      <td>1</td>\n",
       "      <td>../BData/382311-3514-SND-WBC104-ZZ-TS-X-0103-J...</td>\n",
       "    </tr>\n",
       "    <tr>\n",
       "      <th>2</th>\n",
       "      <td>2</td>\n",
       "      <td>../BData/RUH Cancer Care Unit - Public Health ...</td>\n",
       "    </tr>\n",
       "    <tr>\n",
       "      <th>3</th>\n",
       "      <td>3</td>\n",
       "      <td>../BData/TS-003 - BMS Des Ops_BMS Des Ops_S3 S...</td>\n",
       "    </tr>\n",
       "    <tr>\n",
       "      <th>4</th>\n",
       "      <td>4</td>\n",
       "      <td>../BData/TS-003 - BMS Des Ops_BMS Des Ops_S3 S...</td>\n",
       "    </tr>\n",
       "    <tr>\n",
       "      <th>5</th>\n",
       "      <td>5</td>\n",
       "      <td>../BData/5127-WSP-RP-MEP-001_MEP Specification...</td>\n",
       "    </tr>\n",
       "    <tr>\n",
       "      <th>6</th>\n",
       "      <td>6</td>\n",
       "      <td>../BData/5127-WSP-RP-M-001_Site Wide Carbon Em...</td>\n",
       "    </tr>\n",
       "    <tr>\n",
       "      <th>7</th>\n",
       "      <td>7</td>\n",
       "      <td>../BData/5127-KCWW-XX-XX-SP-W-0001_BIM Executi...</td>\n",
       "    </tr>\n",
       "    <tr>\n",
       "      <th>8</th>\n",
       "      <td>8</td>\n",
       "      <td>../BData/5127-KCWW-XX-XX-SP-W-0001_BIM Executi...</td>\n",
       "    </tr>\n",
       "    <tr>\n",
       "      <th>9</th>\n",
       "      <td>9</td>\n",
       "      <td>../BData/5127-KCWW-XX-XX-SP-W-0001_BIM Executi...</td>\n",
       "    </tr>\n",
       "  </tbody>\n",
       "</table>\n",
       "</div>"
      ],
      "text/plain": [
       "   id                                               path\n",
       "0   0  ../BData/Mech - Section 2 - Systems Descriptio...\n",
       "1   1  ../BData/382311-3514-SND-WBC104-ZZ-TS-X-0103-J...\n",
       "2   2  ../BData/RUH Cancer Care Unit - Public Health ...\n",
       "3   3  ../BData/TS-003 - BMS Des Ops_BMS Des Ops_S3 S...\n",
       "4   4  ../BData/TS-003 - BMS Des Ops_BMS Des Ops_S3 S...\n",
       "5   5  ../BData/5127-WSP-RP-MEP-001_MEP Specification...\n",
       "6   6  ../BData/5127-WSP-RP-M-001_Site Wide Carbon Em...\n",
       "7   7  ../BData/5127-KCWW-XX-XX-SP-W-0001_BIM Executi...\n",
       "8   8  ../BData/5127-KCWW-XX-XX-SP-W-0001_BIM Executi...\n",
       "9   9  ../BData/5127-KCWW-XX-XX-SP-W-0001_BIM Executi..."
      ]
     },
     "execution_count": 2,
     "metadata": {},
     "output_type": "execute_result"
    }
   ],
   "source": [
    "pdf = pd.read_csv('../metadata/pdf_path_table.csv')\n",
    "pdf.head(10)"
   ]
  },
  {
   "cell_type": "code",
   "execution_count": 23,
   "metadata": {},
   "outputs": [
    {
     "name": "stdout",
     "output_type": "stream",
     "text": [
      "Dataset total size 771.7 MB\n"
     ]
    }
   ],
   "source": [
    "s = 0\n",
    "for _, (i, p) in pdf.iterrows():\n",
    "    s += get_size_mb(p)\n",
    "\n",
    "print(f'Dataset total size {round(s, 1)} MB')"
   ]
  },
  {
   "cell_type": "code",
   "execution_count": 21,
   "metadata": {},
   "outputs": [
    {
     "data": {
      "text/plain": [
       "('../BData/5127-WSP-RP-MEP-001_MEP Specification_Costing_C02.pdf', 2.8)"
      ]
     },
     "execution_count": 21,
     "metadata": {},
     "output_type": "execute_result"
    }
   ],
   "source": [
    "pdf.iloc[5].path, get_size_mb(pdf.iloc[5].path)"
   ]
  },
  {
   "cell_type": "code",
   "execution_count": 2,
   "metadata": {},
   "outputs": [],
   "source": [
    "doc, page = 5, 10\n",
    "_, _, _, txt, emb = db.retrieve(doc, page)"
   ]
  },
  {
   "cell_type": "code",
   "execution_count": 5,
   "metadata": {},
   "outputs": [
    {
     "name": "stdout",
     "output_type": "stream",
     "text": [
      "WSP Building Services Specification\n",
      "70051669\n",
      "1014006 Builders work drawings\n",
      "1014007 Scope of builders work\n",
      "1015000 Drawing definitions\n",
      "1015001 General\n",
      "1015002 Tender drawings\n",
      "1015003 Sketch drawings\n",
      "1015004 Concept schematic drawings\n",
      "1015005 Detailed schematic drawing\n",
      "1015006 Technical design drawing\n",
      "1015007 Detailed design drawing\n",
      "1015008 Co-ordinated working drawing\n",
      "1015009 Installation drawing\n",
      "1015010 Installation wiring diagram\n",
      "1015011 Manufacturer’s drawing\n",
      "1015012 Manufacturer’s certified drawing\n",
      "1015013 Record drawing\n",
      "1015014 Builders work drawing and information\n",
      "1015015 Controls logic diagrams\n",
      "1016000 Record documentation\n",
      "1016001 General\n",
      "1016002 Record documents\n",
      "1016003 Plant room and switch room drawings, schedules and schematics\n",
      "1016004 Operating and maintenance manual specialist\n",
      "1016005 Operating and maintenance manual requirements\n",
      "1016006 Operating and maintenance manual layout\n",
      "1016007 Operating and maintenance manual content\n",
      "1016008 Building log book\n",
      "1017000 Commissioning and testing\n",
      "1017001 Definitions\n",
      "1017002 General requirements\n",
      "1017003 Testing and commissioning activities\n",
      "1017004 Commissioning progress reports\n",
      "1017005 Regulations and standards\n",
      "1017006 Commissioning specialist\n",
      "1017007 Personnel\n",
      "1017008 Commissioning and testing programme\n",
      "1017009 Instruments for testing and commissioning\n",
      "1017010 Testing and commissioning record sheets\n",
      "1017011 Static testing\n",
      "1017012 Pre-commissioning checks\n",
      "1017013 Load and performance simulation tests\n",
      "1017014 Inspection by Employer’s insurance company\n",
      "1017015 System demonstration\n",
      "1017016 Off-site testing\n",
      "1017017 Pre-commissioning checks\n",
      "1017018 Test certificates\n"
     ]
    }
   ],
   "source": [
    "print(txt)"
   ]
  },
  {
   "cell_type": "code",
   "execution_count": null,
   "metadata": {},
   "outputs": [],
   "source": []
  }
 ],
 "metadata": {
  "kernelspec": {
   "display_name": "venv",
   "language": "python",
   "name": "python3"
  },
  "language_info": {
   "codemirror_mode": {
    "name": "ipython",
    "version": 3
   },
   "file_extension": ".py",
   "mimetype": "text/x-python",
   "name": "python",
   "nbconvert_exporter": "python",
   "pygments_lexer": "ipython3",
   "version": "3.12.3"
  }
 },
 "nbformat": 4,
 "nbformat_minor": 2
}
