{
 "cells": [
  {
   "cell_type": "code",
   "execution_count": 17,
   "metadata": {},
   "outputs": [],
   "source": [
    "import sys\n",
    "sys.path.insert(1, '../src/')\n",
    "\n",
    "import db_wrapper as db\n",
    "import gemini_wrapper as gemini\n",
    "import re"
   ]
  },
  {
   "cell_type": "code",
   "execution_count": null,
   "metadata": {},
   "outputs": [],
   "source": [
    "def compose_info(db_answer):\n",
    "    info = ''\n",
    "    for _, doc, page, txt, _ in db_answer:\n",
    "        info += '\\n'\n",
    "        info += f'## Document {doc}, Page {page+1}\\n'\n",
    "        info += txt\n",
    "        info += '\\n'\n",
    "\n",
    "    return info\n",
    "\n",
    "def compose_prompt(query, db_answer):\n",
    "    template = open('../metadata/template.md').read()\n",
    "    ans_template = open('../metadata/answer_template.json').read()\n",
    "    info = compose_info(db_answer)\n",
    "    prompt = template.format(query=query, ans_template=ans_template, info=info)\n",
    "\n",
    "    return prompt\n",
    "\n",
    "def extract_json(txt):\n",
    "    m = re.match('```json(.+)```', txt, re.DOTALL)\n",
    "    if m is None:\n",
    "        return txt\n",
    "    \n",
    "    return m.group(1).strip()"
   ]
  },
  {
   "cell_type": "code",
   "execution_count": 4,
   "metadata": {},
   "outputs": [],
   "source": [
    "gemini.configure()"
   ]
  },
  {
   "cell_type": "code",
   "execution_count": 5,
   "metadata": {},
   "outputs": [],
   "source": [
    "query = 'What is the maximum rating for RCBO in the small power system?'\n",
    "emb = gemini.create_embedding(query)"
   ]
  },
  {
   "cell_type": "code",
   "execution_count": 6,
   "metadata": {},
   "outputs": [],
   "source": [
    "r = db.semantic_search(emb)"
   ]
  },
  {
   "cell_type": "code",
   "execution_count": 9,
   "metadata": {},
   "outputs": [
    {
     "data": {
      "text/plain": [
       "28250"
      ]
     },
     "execution_count": 9,
     "metadata": {},
     "output_type": "execute_result"
    }
   ],
   "source": [
    "info = compose_info(r)\n",
    "open('../tmp/info.md', 'w+').write(info)"
   ]
  },
  {
   "cell_type": "code",
   "execution_count": 14,
   "metadata": {},
   "outputs": [
    {
     "data": {
      "text/plain": [
       "28634"
      ]
     },
     "execution_count": 14,
     "metadata": {},
     "output_type": "execute_result"
    }
   ],
   "source": [
    "prompt = compose_prompt(query, r)\n",
    "open('../tmp/prompt.md', 'w+').write(prompt)"
   ]
  },
  {
   "cell_type": "code",
   "execution_count": null,
   "metadata": {},
   "outputs": [
    {
     "name": "stdout",
     "output_type": "stream",
     "text": [
      "```json\n",
      "{\n",
      "  \"page\": 25,\n",
      "  \"doc\": 0,\n",
      "  \"answer\": \"The rating of RCBOs does not exceed 30mA for residual currents.\"\n",
      "}\n",
      "```\n",
      "\n"
     ]
    },
    {
     "data": {
      "text/plain": [
       "120"
      ]
     },
     "execution_count": 16,
     "metadata": {},
     "output_type": "execute_result"
    }
   ],
   "source": [
    "answer = gemini.ask(prompt)\n",
    "print(answer)\n",
    "open('../tmp/answer.json', 'w+').write(extract_json(answer))"
   ]
  },
  {
   "cell_type": "code",
   "execution_count": null,
   "metadata": {},
   "outputs": [],
   "source": []
  }
 ],
 "metadata": {
  "kernelspec": {
   "display_name": "venv",
   "language": "python",
   "name": "python3"
  },
  "language_info": {
   "codemirror_mode": {
    "name": "ipython",
    "version": 3
   },
   "file_extension": ".py",
   "mimetype": "text/x-python",
   "name": "python",
   "nbconvert_exporter": "python",
   "pygments_lexer": "ipython3",
   "version": "3.12.3"
  }
 },
 "nbformat": 4,
 "nbformat_minor": 2
}
