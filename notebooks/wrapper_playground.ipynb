{
 "cells": [
  {
   "cell_type": "code",
   "execution_count": 18,
   "metadata": {},
   "outputs": [],
   "source": [
    "import sys\n",
    "sys.path.insert(1, '../src/')\n",
    "\n",
    "import db_wrapper as db\n",
    "import gemini_wrapper as gemini\n",
    "import rag, re, json"
   ]
  },
  {
   "cell_type": "code",
   "execution_count": 5,
   "metadata": {},
   "outputs": [],
   "source": [
    "gemini.configure()"
   ]
  },
  {
   "cell_type": "code",
   "execution_count": 2,
   "metadata": {},
   "outputs": [],
   "source": [
    "doc, page = 0, 22\n",
    "_, _, _, txt, emb = db.retrieve(doc, page)"
   ]
  },
  {
   "cell_type": "code",
   "execution_count": 4,
   "metadata": {},
   "outputs": [],
   "source": [
    "query = 'What are the two programming methods used for QUANTEC?'\n",
    "answer = 'The Quantec system was adapted to provide a bespoke solution for the RUH by the manufacturer.'\n",
    "context = txt"
   ]
  },
  {
   "cell_type": "code",
   "execution_count": 9,
   "metadata": {},
   "outputs": [
    {
     "data": {
      "text/plain": [
       "1019"
      ]
     },
     "execution_count": 9,
     "metadata": {},
     "output_type": "execute_result"
    }
   ],
   "source": [
    "template = open('../metadata/validation_template.md').read()\n",
    "vjs = open('../metadata/valid_js_template.json').read()\n",
    "prompt = template.format(query=query, answer=answer, context=context, valid_js_template=vjs)\n",
    "open('../tmp/validation_prompt.md', 'w+').write(prompt)"
   ]
  },
  {
   "cell_type": "code",
   "execution_count": null,
   "metadata": {},
   "outputs": [],
   "source": [
    "def extract_json(txt):\n",
    "    m = re.match('```json(.+)```', txt, re.DOTALL)\n",
    "    if m is None:\n",
    "        return txt\n",
    "    \n",
    "    return m.group(1).strip()    \n",
    "\n",
    "def compose_validation(txt):\n",
    "    js = json.loads(extract_json(txt))\n",
    "    ans = 'The answer is valid.' if js['acceptable'] else 'The answer is not valid.'\n",
    "    ans += '\\n'\n",
    "    ans += js['explanation']\n",
    "    return ans\n"
   ]
  },
  {
   "cell_type": "code",
   "execution_count": 14,
   "metadata": {},
   "outputs": [
    {
     "data": {
      "text/plain": [
       "'{\\n  \"acceptable\": false,\\n  \"explanation\": \"This answer was unacceptable because it does not address the question. The question asks about the programming methods used for Quantec, but the answer describes a system adaptation for a specific hospital and mentions bespoke hardware (call buttons and displays) rather than programming techniques.  The provided text offers no information about Quantec\\'s programming methods.\"\\n}'"
      ]
     },
     "execution_count": 14,
     "metadata": {},
     "output_type": "execute_result"
    }
   ],
   "source": [
    "r = gemini.ask(prompt)\n",
    "extract_json(r)"
   ]
  },
  {
   "cell_type": "code",
   "execution_count": 16,
   "metadata": {},
   "outputs": [
    {
     "name": "stdout",
     "output_type": "stream",
     "text": [
      "{\n",
      "  \"acceptable\": false,\n",
      "  \"explanation\": \"This answer was unacceptable because it does not address the question. The question asks about the programming methods used for Quantec, but the answer describes a system adaptation for a specific hospital and mentions bespoke hardware (call buttons and displays) rather than programming techniques.  The provided text offers no information about Quantec's programming methods.\"\n",
      "}\n"
     ]
    }
   ],
   "source": [
    "print(extract_json(r))"
   ]
  },
  {
   "cell_type": "code",
   "execution_count": 23,
   "metadata": {},
   "outputs": [
    {
     "data": {
      "text/plain": [
       "1209"
      ]
     },
     "execution_count": 23,
     "metadata": {},
     "output_type": "execute_result"
    }
   ],
   "source": [
    "valid = compose_validation(r)\n",
    "\n",
    "report_template = open('../metadata/report_template.md').read()\n",
    "report = report_template.format(query=query, answer=answer, context=context, valid=valid)\n",
    "open('../tmp/report.md', 'w+').write(report)"
   ]
  },
  {
   "cell_type": "code",
   "execution_count": null,
   "metadata": {},
   "outputs": [],
   "source": []
  }
 ],
 "metadata": {
  "kernelspec": {
   "display_name": "venv",
   "language": "python",
   "name": "python3"
  },
  "language_info": {
   "codemirror_mode": {
    "name": "ipython",
    "version": 3
   },
   "file_extension": ".py",
   "mimetype": "text/x-python",
   "name": "python",
   "nbconvert_exporter": "python",
   "pygments_lexer": "ipython3",
   "version": "3.12.3"
  }
 },
 "nbformat": 4,
 "nbformat_minor": 2
}
