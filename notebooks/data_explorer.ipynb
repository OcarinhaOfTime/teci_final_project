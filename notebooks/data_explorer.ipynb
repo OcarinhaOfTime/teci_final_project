{
 "cells": [
  {
   "cell_type": "code",
   "execution_count": 2,
   "metadata": {},
   "outputs": [],
   "source": [
    "from pypdf import PdfReader"
   ]
  },
  {
   "cell_type": "code",
   "execution_count": 8,
   "metadata": {},
   "outputs": [],
   "source": [
    "pdf_paths = [\n",
    "    '../BData/4326-2 - Kier - RUH Bath Cancer Centre - BUG - Technical User__S3 Suitable for Review and Comment_B.pdf',\n",
    "    '../BData/Mech - Section 2 - Systems Description_Mech - Section 2 - Systems Description_S3 Suitable for Review and Comment_A.pdf',\n",
    "    '../BData/5127-WSP-RP-MEP-001_MEP Specification_Costing_C02.pdf'\n",
    "    ]\n",
    "\n",
    "separator = '\\n$$$\\n'"
   ]
  },
  {
   "cell_type": "code",
   "execution_count": null,
   "metadata": {},
   "outputs": [
    {
     "name": "stdout",
     "output_type": "stream",
     "text": [
      "parsing 0\n",
      "parsing 1\n",
      "parsing 2\n"
     ]
    }
   ],
   "source": [
    "for i in range(len(pdf_paths)):\n",
    "    print('parsing', i)\n",
    "    pdf_path = pdf_paths[i]\n",
    "    reader = PdfReader(pdf_path)\n",
    "    number_of_pages = len(reader.pages)\n",
    "    txt = separator.join([page.extract_text() for page in reader.pages])\n",
    "    open(f'../BData/parsed_data/{i}.txt', 'w+').write(txt)"
   ]
  },
  {
   "cell_type": "code",
   "execution_count": 11,
   "metadata": {},
   "outputs": [
    {
     "name": "stdout",
     "output_type": "stream",
     "text": [
      "doc 0, total pages 130, max chars in page 6531, min chars page: 179, excluded pages 27\n",
      "doc 1, total pages 37, max chars in page 3019, min chars page: 332, excluded pages 1\n",
      "doc 2, total pages 592, max chars in page 4845, min chars page: 0, excluded pages 6\n"
     ]
    }
   ],
   "source": [
    "min_thres = 500\n",
    "\n",
    "for i in range(3):\n",
    "    txt = open(f'../BData/parsed_data/{i}.txt').read()\n",
    "    pages = txt.split(separator)\n",
    "    max_page = max([len(page) for page in pages])\n",
    "    min_page = min([len(page) for page in pages])\n",
    "    exclud_pages = sum([len(page) < min_thres for page in pages])\n",
    "    print(f'doc {i}, total pages {len(pages)}, max chars in page {max_page}, min chars page: {min_page}, excluded pages {exclud_pages}')"
   ]
  },
  {
   "cell_type": "code",
   "execution_count": null,
   "metadata": {},
   "outputs": [],
   "source": []
  }
 ],
 "metadata": {
  "kernelspec": {
   "display_name": "venv",
   "language": "python",
   "name": "python3"
  },
  "language_info": {
   "codemirror_mode": {
    "name": "ipython",
    "version": 3
   },
   "file_extension": ".py",
   "mimetype": "text/x-python",
   "name": "python",
   "nbconvert_exporter": "python",
   "pygments_lexer": "ipython3",
   "version": "3.12.3"
  }
 },
 "nbformat": 4,
 "nbformat_minor": 2
}
