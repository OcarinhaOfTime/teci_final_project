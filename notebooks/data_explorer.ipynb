{
 "cells": [
  {
   "cell_type": "code",
   "execution_count": 1,
   "metadata": {},
   "outputs": [],
   "source": [
    "from pypdf import PdfReader"
   ]
  },
  {
   "cell_type": "code",
   "execution_count": 2,
   "metadata": {},
   "outputs": [],
   "source": [
    "pdf_paths = [\n",
    "    '../BData/4326-2 - Kier - RUH Bath Cancer Centre - BUG - Technical User__S3 Suitable for Review and Comment_B.pdf',\n",
    "    '../BData/Mech - Section 2 - Systems Description_Mech - Section 2 - Systems Description_S3 Suitable for Review and Comment_A.pdf',\n",
    "    '../BData/5127-WSP-RP-MEP-001_MEP Specification_Costing_C02.pdf'\n",
    "    ]\n",
    "\n",
    "separator = '\\n$$$\\n'"
   ]
  },
  {
   "cell_type": "code",
   "execution_count": null,
   "metadata": {},
   "outputs": [
    {
     "name": "stdout",
     "output_type": "stream",
     "text": [
      "parsing 0\n",
      "parsing 1\n",
      "parsing 2\n"
     ]
    }
   ],
   "source": [
    "for i in range(len(pdf_paths)):\n",
    "    print('parsing', i)\n",
    "    pdf_path = pdf_paths[i]\n",
    "    reader = PdfReader(pdf_path)\n",
    "    number_of_pages = len(reader.pages)\n",
    "    txt = separator.join([page.extract_text() for page in reader.pages])\n",
    "    open(f'../BData/parsed_data/{i}.txt', 'w+').write(txt)"
   ]
  },
  {
   "cell_type": "code",
   "execution_count": 6,
   "metadata": {},
   "outputs": [
    {
     "name": "stdout",
     "output_type": "stream",
     "text": [
      "doc 0, total pages 130, max chars in page 6531, min chars page: 179, excluded pages 17\n",
      "doc 1, total pages 37, max chars in page 3019, min chars page: 332, excluded pages 0\n",
      "doc 2, total pages 592, max chars in page 4845, min chars page: 0, excluded pages 6\n"
     ]
    }
   ],
   "source": [
    "min_thres = 200\n",
    "expags_list = []\n",
    "\n",
    "for i in range(3):\n",
    "    txt = open(f'../BData/parsed_data/{i}.txt').read()\n",
    "    pages = txt.split(separator)\n",
    "    max_page = max([len(page) for page in pages])\n",
    "    min_page = min([len(page) for page in pages])\n",
    "    exclud_pages = sum([len(page) < min_thres for page in pages])\n",
    "    expags = [i for page, i in zip(pages, range(len(pages))) if len(page) < min_thres]\n",
    "    expags_list.append(expags)\n",
    "    print(f'doc {i}, total pages {len(pages)}, max chars in page {max_page}, min chars page: {min_page}, excluded pages {exclud_pages}')"
   ]
  },
  {
   "cell_type": "code",
   "execution_count": null,
   "metadata": {},
   "outputs": [
    {
     "name": "stdout",
     "output_type": "stream",
     "text": [
      "[16, 17, 18, 19, 23, 54, 61, 62, 63, 64, 65, 66, 80, 81, 82, 83, 84]\n",
      "[]\n",
      "[0, 1, 2, 3, 420, 591]\n"
     ]
    }
   ],
   "source": [
    "txt = open(f'../BData/parsed_data/{i}.txt').read()\n",
    "pages = txt.split(separator)"
   ]
  },
  {
   "cell_type": "code",
   "execution_count": null,
   "metadata": {},
   "outputs": [],
   "source": []
  }
 ],
 "metadata": {
  "kernelspec": {
   "display_name": "venv",
   "language": "python",
   "name": "python3"
  },
  "language_info": {
   "codemirror_mode": {
    "name": "ipython",
    "version": 3
   },
   "file_extension": ".py",
   "mimetype": "text/x-python",
   "name": "python",
   "nbconvert_exporter": "python",
   "pygments_lexer": "ipython3",
   "version": "3.12.3"
  }
 },
 "nbformat": 4,
 "nbformat_minor": 2
}
