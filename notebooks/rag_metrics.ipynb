{
 "cells": [
  {
   "cell_type": "code",
   "execution_count": 22,
   "metadata": {},
   "outputs": [],
   "source": [
    "import sys\n",
    "sys.path.insert(1, '../src/')\n",
    "\n",
    "import json, re\n",
    "import pandas as pd\n",
    "import matplotlib.pyplot as plt\n",
    "import seaborn as sns\n",
    "\n",
    "import gemini_wrapper as gemini\n",
    "import time"
   ]
  },
  {
   "cell_type": "code",
   "execution_count": 2,
   "metadata": {},
   "outputs": [],
   "source": [
    "corpus = json.loads(open('../BData/corpus.json').read())"
   ]
  },
  {
   "cell_type": "code",
   "execution_count": 14,
   "metadata": {},
   "outputs": [],
   "source": [
    "def extract_metrics(corpus, doc):\n",
    "    data = [k for k in corpus if k['doc'] == doc]\n",
    "    pages = len(data)\n",
    "    if pages <= 0:\n",
    "        return doc, 0, 0, 0\n",
    "    \n",
    "    lens = [len(k['txt']) for k in data]\n",
    "    max_chars = max(lens)\n",
    "    min_chars = min(lens)\n",
    "\n",
    "    return doc, pages, max_chars, min_chars\n",
    "\n",
    "def extract_json(txt):\n",
    "    m = re.match('```json(.+)```', txt, re.DOTALL)\n",
    "    if m is None:\n",
    "        return txt\n",
    "    \n",
    "    return m.group(1).strip()   \n",
    "\n",
    "def generate_question(context):\n",
    "    qgen_template = open('../metadata/question_gen_prompt_sample.md').read()\n",
    "    output_template = open('../metadata/question_gen_prompt_sample_out.json').read()\n",
    "    prompt = qgen_template.format(output=output_template, context=context)\n",
    "    r = gemini.ask(prompt)\n",
    "    js = json.loads(extract_json(r))\n",
    "    js['context'] = context\n",
    "\n",
    "    return js    "
   ]
  },
  {
   "cell_type": "code",
   "execution_count": 5,
   "metadata": {},
   "outputs": [],
   "source": [
    "total_docs = corpus[-1]['doc']+1\n",
    "mtx = []\n",
    "for i in range(total_docs):\n",
    "    mtx.append(extract_metrics(corpus, i))"
   ]
  },
  {
   "cell_type": "code",
   "execution_count": 6,
   "metadata": {},
   "outputs": [
    {
     "data": {
      "text/html": [
       "<div>\n",
       "<style scoped>\n",
       "    .dataframe tbody tr th:only-of-type {\n",
       "        vertical-align: middle;\n",
       "    }\n",
       "\n",
       "    .dataframe tbody tr th {\n",
       "        vertical-align: top;\n",
       "    }\n",
       "\n",
       "    .dataframe thead th {\n",
       "        text-align: right;\n",
       "    }\n",
       "</style>\n",
       "<table border=\"1\" class=\"dataframe\">\n",
       "  <thead>\n",
       "    <tr style=\"text-align: right;\">\n",
       "      <th></th>\n",
       "      <th>doc</th>\n",
       "      <th>pages</th>\n",
       "      <th>max_chars</th>\n",
       "      <th>min_chars</th>\n",
       "    </tr>\n",
       "  </thead>\n",
       "  <tbody>\n",
       "    <tr>\n",
       "      <th>0</th>\n",
       "      <td>0</td>\n",
       "      <td>37</td>\n",
       "      <td>3019</td>\n",
       "      <td>332</td>\n",
       "    </tr>\n",
       "    <tr>\n",
       "      <th>1</th>\n",
       "      <td>1</td>\n",
       "      <td>1</td>\n",
       "      <td>3625</td>\n",
       "      <td>3625</td>\n",
       "    </tr>\n",
       "    <tr>\n",
       "      <th>2</th>\n",
       "      <td>2</td>\n",
       "      <td>8</td>\n",
       "      <td>5962</td>\n",
       "      <td>337</td>\n",
       "    </tr>\n",
       "    <tr>\n",
       "      <th>3</th>\n",
       "      <td>3</td>\n",
       "      <td>71</td>\n",
       "      <td>3154</td>\n",
       "      <td>346</td>\n",
       "    </tr>\n",
       "    <tr>\n",
       "      <th>4</th>\n",
       "      <td>4</td>\n",
       "      <td>1</td>\n",
       "      <td>1101</td>\n",
       "      <td>1101</td>\n",
       "    </tr>\n",
       "    <tr>\n",
       "      <th>...</th>\n",
       "      <td>...</td>\n",
       "      <td>...</td>\n",
       "      <td>...</td>\n",
       "      <td>...</td>\n",
       "    </tr>\n",
       "    <tr>\n",
       "      <th>604</th>\n",
       "      <td>604</td>\n",
       "      <td>4</td>\n",
       "      <td>3670</td>\n",
       "      <td>2430</td>\n",
       "    </tr>\n",
       "    <tr>\n",
       "      <th>605</th>\n",
       "      <td>605</td>\n",
       "      <td>135</td>\n",
       "      <td>7909</td>\n",
       "      <td>202</td>\n",
       "    </tr>\n",
       "    <tr>\n",
       "      <th>606</th>\n",
       "      <td>606</td>\n",
       "      <td>6</td>\n",
       "      <td>4231</td>\n",
       "      <td>2305</td>\n",
       "    </tr>\n",
       "    <tr>\n",
       "      <th>607</th>\n",
       "      <td>607</td>\n",
       "      <td>5</td>\n",
       "      <td>3144</td>\n",
       "      <td>1086</td>\n",
       "    </tr>\n",
       "    <tr>\n",
       "      <th>608</th>\n",
       "      <td>608</td>\n",
       "      <td>2</td>\n",
       "      <td>983</td>\n",
       "      <td>844</td>\n",
       "    </tr>\n",
       "  </tbody>\n",
       "</table>\n",
       "<p>609 rows × 4 columns</p>\n",
       "</div>"
      ],
      "text/plain": [
       "     doc  pages  max_chars  min_chars\n",
       "0      0     37       3019        332\n",
       "1      1      1       3625       3625\n",
       "2      2      8       5962        337\n",
       "3      3     71       3154        346\n",
       "4      4      1       1101       1101\n",
       "..   ...    ...        ...        ...\n",
       "604  604      4       3670       2430\n",
       "605  605    135       7909        202\n",
       "606  606      6       4231       2305\n",
       "607  607      5       3144       1086\n",
       "608  608      2        983        844\n",
       "\n",
       "[609 rows x 4 columns]"
      ]
     },
     "execution_count": 6,
     "metadata": {},
     "output_type": "execute_result"
    }
   ],
   "source": [
    "meta_df = pd.DataFrame(mtx, columns=['doc', 'pages', 'max_chars', 'min_chars'])\n",
    "meta_df"
   ]
  },
  {
   "cell_type": "code",
   "execution_count": 7,
   "metadata": {},
   "outputs": [
    {
     "data": {
      "text/plain": [
       "Text(0.5, 1.0, 'Density distribution of pages per text document.')"
      ]
     },
     "execution_count": 7,
     "metadata": {},
     "output_type": "execute_result"
    },
    {
     "data": {
      "image/png": "[encoded data removed]",
      "text/plain": [
       "<Figure size 640x480 with 1 Axes>"
      ]
     },
     "metadata": {},
     "output_type": "display_data"
    }
   ],
   "source": [
    "_, ax = plt.subplots()\n",
    "ax.set_xlim([0, 100])\n",
    "sns.kdeplot(meta_df.pages, ax=ax)\n",
    "ax.set_title('Density distribution of pages per text document.')"
   ]
  },
  {
   "cell_type": "code",
   "execution_count": 8,
   "metadata": {},
   "outputs": [],
   "source": [
    "gemini.configure()"
   ]
  },
  {
   "cell_type": "code",
   "execution_count": 23,
   "metadata": {},
   "outputs": [
    {
     "name": "stdout",
     "output_type": "stream",
     "text": [
      "Generating question for doc 0, page 0\n",
      "Generating question for doc 3, page 21\n",
      "Generating question for doc 5, page 20\n",
      "Generating question for doc 5, page 87\n",
      "Generating question for doc 5, page 154\n",
      "Generating question for doc 5, page 221\n",
      "Generating question for doc 5, page 288\n",
      "Generating question for doc 5, page 355\n",
      "Generating question for doc 5, page 423\n",
      "Generating question for doc 5, page 490\n",
      "Generating question for doc 5, page 557\n",
      "Generating question for doc 8, page 8\n",
      "Generating question for doc 12, page 17\n",
      "Generating question for doc 19, page 33\n",
      "Generating question for doc 19, page 112\n",
      "Generating question for doc 78, page 0\n",
      "Generating question for doc 90, page 3\n",
      "Generating question for doc 100, page 37\n",
      "Generating question for doc 101, page 10\n",
      "Generating question for doc 112, page 3\n",
      "Generating question for doc 117, page 43\n"
     ]
    },
    {
     "ename": "KeyboardInterrupt",
     "evalue": "",
     "output_type": "error",
     "traceback": [
      "\u001b[1;31m---------------------------------------------------------------------------\u001b[0m",
      "\u001b[1;31mKeyboardInterrupt\u001b[0m                         Traceback (most recent call last)",
      "Cell \u001b[1;32mIn[23], line 15\u001b[0m\n\u001b[0;32m     11\u001b[0m     js[\u001b[38;5;124m'\u001b[39m\u001b[38;5;124mpage\u001b[39m\u001b[38;5;124m'\u001b[39m] \u001b[38;5;241m=\u001b[39m page\n\u001b[0;32m     13\u001b[0m     question_db\u001b[38;5;241m.\u001b[39mappend(js)\n\u001b[1;32m---> 15\u001b[0m     \u001b[43mtime\u001b[49m\u001b[38;5;241;43m.\u001b[39;49m\u001b[43msleep\u001b[49m\u001b[43m(\u001b[49m\u001b[38;5;241;43m5\u001b[39;49m\u001b[43m)\u001b[49m\n\u001b[0;32m     17\u001b[0m \u001b[38;5;28mprint\u001b[39m(\u001b[38;5;124m'\u001b[39m\u001b[38;5;124mfinished\u001b[39m\u001b[38;5;124m'\u001b[39m)\n",
      "\u001b[1;31mKeyboardInterrupt\u001b[0m: "
     ]
    }
   ],
   "source": [
    "question_db = []\n",
    "nquestions = 100\n",
    "for k in range(nquestions):\n",
    "    w = len(corpus) // nquestions\n",
    "    i = k * w\n",
    "    doc, page = corpus[i]['doc'], corpus[i]['page']\n",
    "    print(f'Generating question for doc {doc}, page {page}')\n",
    "    context = corpus[i]['txt']\n",
    "    js = generate_question(context)\n",
    "    js['doc'] = doc\n",
    "    js['page'] = page\n",
    "\n",
    "    question_db.append(js)\n",
    "\n",
    "    time.sleep(5)\n",
    "\n",
    "print('finished')"
   ]
  },
  {
   "cell_type": "code",
   "execution_count": 21,
   "metadata": {},
   "outputs": [
    {
     "name": "stdout",
     "output_type": "stream",
     "text": [
      "I am doing well, thank you for asking!  How are you today?\n",
      "\n"
     ]
    }
   ],
   "source": [
    "r = gemini.ask('Greetings, how are you doing?')\n",
    "print(r)"
   ]
  },
  {
   "cell_type": "code",
   "execution_count": 26,
   "metadata": {},
   "outputs": [
    {
     "data": {
      "text/plain": [
       "55651"
      ]
     },
     "execution_count": 26,
     "metadata": {},
     "output_type": "execute_result"
    }
   ],
   "source": [
    "open('../logs/questions.json', 'w+').write(json.dumps(question_db))"
   ]
  },
  {
   "cell_type": "code",
   "execution_count": null,
   "metadata": {},
   "outputs": [],
   "source": []
  }
 ],
 "metadata": {
  "kernelspec": {
   "display_name": "Python 3",
   "language": "python",
   "name": "python3"
  },
  "language_info": {
   "codemirror_mode": {
    "name": "ipython",
    "version": 3
   },
   "file_extension": ".py",
   "mimetype": "text/x-python",
   "name": "python",
   "nbconvert_exporter": "python",
   "pygments_lexer": "ipython3",
   "version": "3.13.1"
  }
 },
 "nbformat": 4,
 "nbformat_minor": 2
}
