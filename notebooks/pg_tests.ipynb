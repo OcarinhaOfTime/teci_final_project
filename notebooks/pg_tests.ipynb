{
 "cells": [
  {
   "cell_type": "code",
   "execution_count": 1,
   "metadata": {},
   "outputs": [],
   "source": [
    "import psycopg2"
   ]
  },
  {
   "cell_type": "code",
   "execution_count": 5,
   "metadata": {},
   "outputs": [],
   "source": [
    "def first_test():\n",
    "    conn = psycopg2.connect(\"dbname=testpython user=matt password=3136 host=localhost\")\n",
    "\n",
    "    cur = conn.cursor()\n",
    "    cur.execute(\"CREATE TABLE test (id serial PRIMARY KEY, num integer, data varchar);\")\n",
    "\n",
    "    cur.execute(\"INSERT INTO test (num, data) VALUES (%s, %s)\", (100, \"abc'def\"))\n",
    "    cur.execute(\"INSERT INTO test (num, data) VALUES (%s, %s)\", (50, \"blabla\"))\n",
    "\n",
    "    conn.commit()\n",
    "    cur.close()\n",
    "    conn.close()\n",
    "\n",
    "def second_test():\n",
    "    conn = psycopg2.connect(\"dbname=emb user=vagner\")\n",
    "    cur = conn.cursor()\n",
    "\n",
    "    cur.execute(\"CREATE EXTENSION vector;\")\n",
    "\n",
    "    cur.close()\n",
    "    conn.close()\n",
    "\n",
    "def third_test():\n",
    "    conn = psycopg2.connect(\"dbname=emb user=vagner\")\n",
    "    cur = conn.cursor()\n",
    "\n",
    "    cur.execute(\"CREATE TABLE bcorpus (id bigserial PRIMARY KEY, doc INT, page INT, txt VARCHAR(10000), embedding vector(768));\")\n",
    "\n",
    "    js = json.loads(open('../tmp/corpus.json').read())\n",
    "\n",
    "    for it in js:\n",
    "        txt, emb, doc, page = it['txt'], it['emb'], it['doc'], it['page']\n",
    "        txt = txt.replace(\"'\", '')\n",
    "        query = f\"INSERT INTO bcorpus (doc, page, embedding, txt) VALUES ({doc}, {page}, '{emb}', '{txt}');\"\n",
    "        cur.execute(query)\n",
    "\n",
    "    conn.commit()\n",
    "    cur.close()\n",
    "    conn.close()\n"
   ]
  },
  {
   "cell_type": "code",
   "execution_count": null,
   "metadata": {},
   "outputs": [],
   "source": []
  }
 ],
 "metadata": {
  "kernelspec": {
   "display_name": "venv",
   "language": "python",
   "name": "python3"
  },
  "language_info": {
   "codemirror_mode": {
    "name": "ipython",
    "version": 3
   },
   "file_extension": ".py",
   "mimetype": "text/x-python",
   "name": "python",
   "nbconvert_exporter": "python",
   "pygments_lexer": "ipython3",
   "version": "3.12.3"
  }
 },
 "nbformat": 4,
 "nbformat_minor": 2
}
